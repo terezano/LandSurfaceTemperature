{
 "cells": [
  {
   "cell_type": "code",
   "execution_count": 1,
   "metadata": {},
   "outputs": [],
   "source": [
    "try: \n",
    "    import sys\n",
    "    import numpy as np\n",
    "    import tifffile as tf\n",
    "    import os\n",
    "    from osgeo import gdal, osr\n",
    "    import earthpy as et\n",
    "    import earthpy.spatial as es\n",
    "    import math\n",
    "    import imagecodecs\n",
    "    #print('Import OK.')\n",
    "    \n",
    "except ImportError as IE:\n",
    "    print('Import not OK - ', IE )\n",
    "    sys.exit('exit - bad import')"
   ]
  },
  {
   "cell_type": "code",
   "execution_count": 2,
   "metadata": {},
   "outputs": [],
   "source": [
    "#https://gist.github.com/jkatagi/a1207eee32463efd06fb57676dcf86c8\n",
    "def fGeoref(input_array, src_dataset_path, output_path):\n",
    "        cols = input_array.shape[1]\n",
    "        rows = input_array.shape[0]\n",
    "        \n",
    "        dataset = gdal.Open(src_dataset_path, gdal.GA_ReadOnly)\n",
    "        originX, pixelWidth, b, originY, d, pixelHeight = dataset.GetGeoTransform() \n",
    "\n",
    "        driver = gdal.GetDriverByName('GTiff')\n",
    "        band_num = 1\n",
    "        GDT_dtype = gdal.GDT_Float32\n",
    "        outRaster = driver.Create(output_path, cols, rows, band_num, GDT_dtype)\n",
    "        outRaster.SetGeoTransform((originX, pixelWidth, 0, originY, 0, pixelHeight))\n",
    "        outband = outRaster.GetRasterBand(band_num)\n",
    "        outband.WriteArray(input_array)\n",
    "        prj=dataset.GetProjection()\n",
    "        outRasterSRS = osr.SpatialReference(wkt=prj)\n",
    "        outRaster.SetProjection(outRasterSRS.ExportToWkt())\n",
    "        \n",
    "        return True\n"
   ]
  },
  {
   "cell_type": "code",
   "execution_count": 3,
   "metadata": {},
   "outputs": [],
   "source": [
    "def fndvi(red_path, nir_path, out_folder, name = \"_NDVI\"):\n",
    "\n",
    "    red= tf.imread(red_path)\n",
    "    nir = tf.imread(nir_path)\n",
    "\n",
    "    zero_exception = np.seterr(all = \"ignore\")\n",
    "    red_array = np.array(red).astype(np.float32)\n",
    "    nir_array = np.array(nir).astype(np.float32)\n",
    "    \n",
    "    #tf.imsave(os.path.join(OUTPUT, \"red.TIF\"), (red_array+nir_array))\n",
    "    #tf.imsave(os.path.join(OUTPUT, \"nir.TIF\"), (nir_array-red_array))\n",
    "    \n",
    "    result_ndvi = np.divide((nir_array-red_array),(red_array+nir_array))\n",
    "      \n",
    "    result_ndvi_path = os.path.join(out_folder, name + \".TIF\") \n",
    "\n",
    "    #tf.imsave(result_ndvi_path, result_ndvi)\n",
    "    fGeoref(result_ndvi, red_path, result_ndvi_path)\n",
    "    \n",
    "    return result_ndvi_path\n"
   ]
  },
  {
   "cell_type": "code",
   "execution_count": 4,
   "metadata": {},
   "outputs": [],
   "source": [
    "def fTOA_Refl(band_path, Ap, Mp, out_folder, name = \"_TOA_Ref\"):   \n",
    "    \n",
    "    band= tf.imread(band_path)\n",
    "    \n",
    "    result_toa = Mp * band + Ap\n",
    "    result_toa_path = os.path.join(out_folder, name + \".TIF\")\n",
    "    \n",
    "    #tf.imsave(result_toa_path , result_toa)\n",
    "    \n",
    "    fGeoref(result_toa, band_path, result_toa_path)\n",
    "    \n",
    "    return result_toa_path"
   ]
  },
  {
   "cell_type": "code",
   "execution_count": 5,
   "metadata": {},
   "outputs": [],
   "source": [
    "def fTOA_Rad(thermo_path, ML, AL, out_folder, name = \"TOA_Rad\"):   \n",
    "        \n",
    "    thermo= tf.imread(thermo_path)\n",
    "    \n",
    "    result_toa_rad = (ML  * thermo) + AL\n",
    "    result_toa_rad_path = os.path.join(out_folder, name + \".TIF\")\n",
    "    \n",
    "    #tf.imsave(result_toa_rad_path , result_toa_rad)\n",
    "    \n",
    "    fGeoref(result_toa_rad, thermo_path, result_toa_rad_path)\n",
    "    \n",
    "    return result_toa_rad_path"
   ]
  },
  {
   "cell_type": "code",
   "execution_count": 6,
   "metadata": {},
   "outputs": [],
   "source": [
    "#vyzarena teplota bez korekce pro emisivitu\n",
    "\n",
    "def fBT(input_path_toa, K1, K2, out_folder, name = \"BT\"):\n",
    "    \n",
    "    #K1 = 774.8853 #Kelvin constant\n",
    "    #K2 = 1321.0789 #Kelvin constant\n",
    "    \n",
    "    toa_array = np.array(tf.imread(input_path_toa))\n",
    "    \n",
    "    zero_exception = np.seterr(all = \"ignore\")\n",
    "        \n",
    "    result_BT = K2/np.log(((K1/toa_array+1))) - 273.15\n",
    "    #result_BT[result_BT == np.inf] = 0    \n",
    "    \n",
    "    result_bt_path = os.path.join(out_folder, name + \".TIF\") \n",
    "    \n",
    "    fGeoref(result_BT, input_path_toa, result_bt_path)\n",
    "    \n",
    "    #tf.imsave(result_bt_path, result_BT)\n",
    "    \n",
    "    return result_bt_path\n"
   ]
  },
  {
   "cell_type": "code",
   "execution_count": 7,
   "metadata": {},
   "outputs": [],
   "source": [
    "def fVc(ndvi, out_folder, name = \"Vc\"):\n",
    "    ndvi_array = np.array(tf.imread(ndvi))\n",
    "    result_Vc = np.divide(np.power(ndvi_array,2),0.3)\n",
    "\n",
    "    result_Vc_path = os.path.join(out_folder, name +\".TIF\")\n",
    "\n",
    "    #tf.imsave(result_Vc_path, result_Vc)\n",
    "\n",
    "    fGeoref(result_Vc, ndvi, result_Vc_path)\n",
    "\n",
    "    return result_Vc_path"
   ]
  },
  {
   "cell_type": "code",
   "execution_count": 8,
   "metadata": {},
   "outputs": [],
   "source": [
    "def fRadLongIn(emis_atmo, temp_air_kel, name = \"RadTLongIn\"):\n",
    "    \n",
    "    result_long_in = emis_atmo * 5.6703 * 10.0 ** (-8.0) * temp_air_kel ** 4\n",
    "    return result_long_in"
   ]
  },
  {
   "cell_type": "code",
   "execution_count": 9,
   "metadata": {},
   "outputs": [],
   "source": [
    "def fEmis(vc, ndvi, red, out_folder, name = \"Emis\"):\n",
    "        \n",
    "    ndvi_array = np.array(tf.imread(ndvi))\n",
    "    vc_array = np.array(tf.imread(vc))\n",
    "    red = np.array(tf.imread(red))\n",
    "\n",
    "    result_e = (0.004 * vc_array) + 0.986\n",
    "    #print(result_e)\n",
    "    result_e = np.where(ndvi_array < 0.2, 1 - red, result_e) \n",
    "    result_e = np.where(ndvi_array > 0.5, 0.99, result_e)              \n",
    "    result_e[result_e > 1] = 0.99                           \n",
    "    result_e[result_e < 0.8] = 0.8\n",
    "    #print(result_e)\n",
    "\n",
    "    result_e_path = os.path.join(out_folder, name +\".TIF\")\n",
    "\n",
    "    fGeoref(result_e, vc, result_e_path)\n",
    "\n",
    "    #tf.imsave(result_e_path, result_e)\n",
    "    return result_e_path"
   ]
  },
  {
   "cell_type": "code",
   "execution_count": 10,
   "metadata": {},
   "outputs": [],
   "source": [
    "def fLST(bt, surf_emis, out_folder, name = \"LST\"):\n",
    "        bt_array = np.array(tf.imread(bt))\n",
    "        e_array = np.array(tf.imread(surf_emis))\n",
    "        \n",
    "        result_LST = (bt_array / (1 + ((0.0015 * bt_array)/1.4488) * np.log(e_array)))\n",
    "        \n",
    "        result_LST_path = os.path.join(out_folder, name + \".TIF\")\n",
    "        \n",
    "        fGeoref(result_LST, bt, result_LST_path)\n",
    "        \n",
    "        #tf.imsave(result_LST_path, result_LST)\n",
    "        return result_LST_path"
   ]
  },
  {
   "cell_type": "code",
   "execution_count": 11,
   "metadata": {},
   "outputs": [],
   "source": [
    "# e = surface emis\n",
    "\n",
    "def fRadLongOut(lst, surf_emis, out_folder, name = \"RadLongOut\"):\n",
    "    lst_array = np.array(tf.imread(lst))\n",
    "    e_array = np.array(tf.imread(surf_emis))\n",
    "    \n",
    "    result_long_out = e_array * 5.67 * 10 ** (-8.0) * (lst_array + 273.15)**4\n",
    "        \n",
    "    long_out_path = os.path.join(out_folder, name +\".TIF\")\n",
    "    \n",
    "    fGeoref(result_long_out, lst, long_out_path)\n",
    "    \n",
    "    #tf.imsave(long_out_path, result_long_out)\n",
    "    #print(result_long_out)\n",
    "    return long_out_path"
   ]
  },
  {
   "cell_type": "code",
   "execution_count": 12,
   "metadata": {},
   "outputs": [],
   "source": [
    "def fAlbedo(toa_band_1, toa_band_3, toa_band_4, toa_band_5, toa_band_7, out_folder, name = 'albedo'):\n",
    "    band1_array = np.array(tf.imread(toa_band_1))\n",
    "    band3_array = np.array(tf.imread(toa_band_3))\n",
    "    band4_array = np.array(tf.imread(toa_band_4))\n",
    "    band5_array = np.array(tf.imread(toa_band_5))\n",
    "    band7_array = np.array(tf.imread(toa_band_7))\n",
    "    \n",
    "    result_albedo = ((0.356 * band1_array) + (0.130 * band3_array) + (0.373 * band4_array) + (0.085 * band5_array) + (0.072 * band7_array))-0.0018/1.016\n",
    "    result_albedo_path = os.path.join(out_folder, name + \".TIF\")\n",
    "    \n",
    "    fGeoref(result_albedo, toa_band_4, result_albedo_path)\n",
    "      \n",
    "    #tf.imsave(result_albedo_path, result_albedo)\n",
    "    \n",
    "    return result_albedo_path"
   ]
  },
  {
   "cell_type": "code",
   "execution_count": 13,
   "metadata": {},
   "outputs": [],
   "source": [
    "def fRadShortOut(RadShIn, albedo, out_folder, name =\"RadShortOut\"):\n",
    "    \n",
    "    albedo_array = np.array(tf.imread(albedo))\n",
    "    \n",
    "    result_RadShortOut = albedo_array * RadShIn\n",
    "    \n",
    "    result_short_out_path = os.path.join(out_folder, name +\".TIF\")\n",
    "    \n",
    "    fGeoref(result_RadShortOut, albedo, result_short_out_path)\n",
    "    \n",
    "    #tf.imsave(result_short_out_path, result_RadShortOut)\n",
    "    \n",
    "    return result_short_out_path"
   ]
  },
  {
   "cell_type": "code",
   "execution_count": 14,
   "metadata": {},
   "outputs": [],
   "source": [
    "def fRadLongIn(emis_atmo, air_temp_kel, name = \"RadTLongIn\"):\n",
    "    \n",
    "    result_long_in = emis_atmo * 5.6703 * 10.0 ** (-8.0) * air_temp_kel **4\n",
    "    \n",
    "    return result_long_in"
   ]
  },
  {
   "cell_type": "code",
   "execution_count": 15,
   "metadata": {},
   "outputs": [],
   "source": [
    "def fTotalRad(RadShortIn, RadShortOut, RadLongIn, RadLongOut, out_folder, name = \"TotalRad\"):\n",
    "    \n",
    "    RadShortOut_array = np.array(tf.imread(RadShortOut))\n",
    "    RadLongOut_array = np.array(tf.imread(RadLongOut))\n",
    "    \n",
    "    result_TotalRad = (RadShortIn - RadShortOut_array) + (RadLongIn - RadLongOut_array)\n",
    "    \n",
    "    result_TotalRad_path = (os.path.join(out_folder, name + \".TIF\"))\n",
    "    \n",
    "    fGeoref(result_TotalRad, RadLongOut, result_TotalRad_path)\n",
    "    \n",
    "    #tf.imsave(result_TotalRad_path, result_TotalRad)\n",
    "    \n",
    "    return result_TotalRad_path"
   ]
  },
  {
   "cell_type": "code",
   "execution_count": 16,
   "metadata": {},
   "outputs": [],
   "source": [
    "def fGroundHeatFl(albedo, ndvi, lst, TotalRad, out_folder, name = \"GroundHeatFlux\"):\n",
    "    albedo_array = np.array(tf.imread(albedo))\n",
    "    ndvi_array = np.array(tf.imread(ndvi))\n",
    "    lst_array = np.array(tf.imread(lst))\n",
    "    TotalRad_array = np.array(tf.imread(TotalRad))\n",
    "    \n",
    "    result_ghf_a = (0.0038 * albedo_array) + (0.0074 * albedo_array)\n",
    "    result_ghf_b = (1 - 0.98) * ndvi_array\n",
    "    result_ghf_c = (np.power(result_ghf_a,2) * np.power(result_ghf_b,4)) * TotalRad_array\n",
    "    result_ghf_d = albedo_array * result_ghf_c\n",
    "    result_ghf = np.divide(lst_array, result_ghf_d)\n",
    " \n",
    "    result_ghf = lst_array/albedo_array * (0.0038 * albedo_array + 0.0074 * albedo_array**2) * (1 - 0.98 * ndvi_array**4) * TotalRad_array\n",
    "    result_ghf_path = (os.path.join(out_folder, name + \".TIF\"))\n",
    "    \n",
    "    fGeoref(result_ghf, ndvi, result_ghf_path)\n",
    "    #tf.imsave(result_ghf_path, result_ghf)\n",
    "    \n",
    "    return result_ghf_path"
   ]
  },
  {
   "cell_type": "code",
   "execution_count": 17,
   "metadata": {},
   "outputs": [],
   "source": [
    "def fEvapoFraction(lst, air_temp, out_folder, name = 'EvapoFraction'):\n",
    "    lst_array = np.array(tf.imread(lst))\n",
    "    \n",
    "    lst_median = ndimage.median_filter(lst_array, 5)\n",
    "    lst_median = lst_median[~np.isnan(lst_median)]\n",
    "    Tmax = np.nanmax(lst_array)\n",
    "    evapo_frac = np.divide(Tmax - lst_array, Tmax - air_temp)\n",
    "    \n",
    "    evapo_frac_path = (os.path.join(out_folder, name + \".TIF\"))\n",
    "    fGeoref(evapo_frac, lst, evapo_frac_path)\n",
    "    \n",
    "    #tf.imsave(evapo_frac_path, evapo_frac)\n",
    "    \n",
    "    return evapo_frac_path"
   ]
  },
  {
   "cell_type": "code",
   "execution_count": 18,
   "metadata": {},
   "outputs": [],
   "source": [
    "def fAvailableEvapo(TotalRad, ground_heat_flux, out_folder, name = 'AvailableEvapo'):\n",
    "    TotalRad_array = np.array(tf.imread(TotalRad))\n",
    "    ground_heat_flux_array= np.array(tf.imread(ground_heat_flux))\n",
    "    \n",
    "    avialable_evapo = TotalRad_array - ground_heat_flux_array #available energy for evaporation\n",
    "\n",
    "    avialable_evapo_path = (os.path.join(out_folder,  name + \".TIF\"))  \n",
    "    fGeoref(avialable_evapo, TotalRad, avialable_evapo_path)\n",
    "    \n",
    "    #tf.imsave(avialable_evapo_path, avialable_evapo)\n",
    "    \n",
    "    return avialable_evapo_path"
   ]
  },
  {
   "cell_type": "code",
   "execution_count": 19,
   "metadata": {},
   "outputs": [],
   "source": [
    "def fLatentHeatFlux(evapo_frac, available_evapo, out_folder, name = \"LatentHeatFlux\" ):    \n",
    "    evapo_frac_array = np.array(tf.imread(evapo_frac))\n",
    "    avialable_evapo_array = np.array(tf.imread(available_evapo))\n",
    "    \n",
    "    latent_heat_flux = evapo_frac_array * avialable_evapo_array\n",
    "    \n",
    "    latent_heat_flux_path = (os.path.join(out_folder,  name + \".TIF\"))\n",
    "    fGeoref(latent_heat_flux, evapo_frac, latent_heat_flux_path)\n",
    "    \n",
    "    #tf.imsave(latent_heat_flux_path, latent_heat_flux)\n",
    "    \n",
    "    return latent_heat_flux_path"
   ]
  },
  {
   "cell_type": "code",
   "execution_count": 20,
   "metadata": {},
   "outputs": [],
   "source": [
    "def fSensibHeatFl(latent_heat_flux, available_evapo, out_folder, name = \"SensibleHeatFlux\" ):\n",
    "    latent_heat_flux_array = np.array(tf.imread(latent_heat_flux))\n",
    "    available_evapo_array = np.array(tf.imread(available_evapo))\n",
    "\n",
    "    result_sensible_heat_flux = available_evapo_array - latent_heat_flux_array\n",
    "\n",
    "    result_sensible_heat_flux_path = (os.path.join(out_folder, name + \".TIF\"))\n",
    "\n",
    "    \n",
    "    fGeoref(result_sensible_heat_flux, available_evapo, result_sensible_heat_flux_path)\n",
    "   \n",
    "    \n",
    "    #tf.imsave(result_sensible_heat_flux_path, result_sensible_heat_flux)\n",
    "    \n",
    "    \n",
    "    return result_sensible_heat_flux_path\n",
    "  "
   ]
  },
  {
   "cell_type": "code",
   "execution_count": 21,
   "metadata": {},
   "outputs": [],
   "source": [
    "def fSaturVapPress(air_temp_c):\n",
    "    SatVapPress = 4098*(0.610*math.exp((17.27*air_temp_c)/(air_temp_c+237.3))/(air_temp_c+237.3)**2)\n",
    "    return SatVapPress"
   ]
  },
  {
   "cell_type": "code",
   "execution_count": 22,
   "metadata": {},
   "outputs": [],
   "source": [
    "def fPsychCons(AtmPress, latent_heat, cp, epsilon):\n",
    "    Y = (cp * AtmPress) / (epsilon * latent_heat)\n",
    "    return Y"
   ]
  },
  {
   "cell_type": "code",
   "execution_count": 23,
   "metadata": {},
   "outputs": [],
   "source": [
    "def fET0(ea, es_v, WindSp, SaturVapPress, GroundHeatFlux, psych, TotalRad, TEMP_K, out_folder, name= \"ET0\"):\n",
    "    ground_heat_flux = np.array(tf.imread(GroundHeatFlux)) \n",
    "    total_rad = np.array(tf.imread(TotalRad))\n",
    "\n",
    "    \n",
    "    a = 0.408 * SaturVapPress * (ground_heat_flux - total_rad)\n",
    "    b = psych * (900 / TEMP_K) * (WindSp * (es_v - ea))\n",
    "    c = SaturVapPress + psych * (1 + (0.34 * WindSp))\n",
    "    ET0 = np.divide((a + b),c)\n",
    "    ET0_path = (os.path.join(out_folder, name + '.TIF'))     \n",
    "    \n",
    "    fGeoref(ET0, TotalRad, ET0_path)\n",
    "    #tf.imsave(ET0_path, ET0)\n",
    "\n",
    "    return ET0_path\n"
   ]
  },
  {
   "cell_type": "code",
   "execution_count": 24,
   "metadata": {},
   "outputs": [],
   "source": [
    "####################PŘEMĚNIT NP MAX!!!!##################################\n",
    "#np.max(ET0)\n",
    "\n",
    "def fETI(Kc, ET0, out_folder, name = 'ETI'):\n",
    "    ET0 = np.array(tf.imread(ET0))\n",
    "    ETI = (Kc * ET0)/np.max(100)\n",
    "    ETI_path = (os.path.join(out_folder, name + \".TIF\"))\n",
    "\n",
    "    fGeoref(ETI, ET0, ETI_path)\n",
    "    #tf.imsave(ETI_path, ETI)\n",
    "\n",
    "    return ETI_path\n"
   ]
  },
  {
   "cell_type": "code",
   "execution_count": 25,
   "metadata": {},
   "outputs": [],
   "source": [
    "def fshade(dem, azimuth = 315, altitude=45, name = \"SHADE\"):\n",
    "    elevation = tf.imread(dem)\n",
    "    #Divided by 255 to standardize from hillshade scale (0-255) to 0-1 scale\n",
    "    result_shade = es.hillshade(elevation, azimuth, altitude)/255\n",
    "    \n",
    "    result_shade_path = os.path.join(out_folder, 'Shade' + \".TIF\")\n",
    "    \n",
    "    #fGeoref(result_shade, FILE_BAND_4, result_shade_path)\n",
    "    \n",
    "    tf.imsave(result_shade_path, result_shade)\n",
    "    return result_shade_path"
   ]
  },
  {
   "cell_type": "code",
   "execution_count": 26,
   "metadata": {},
   "outputs": [],
   "source": [
    "def fCCi(albedo, eti, out_folder, name = 'CCi'):\n",
    "    #shade = np.array(tf.imread(shade))\n",
    "    albedo_array = np.array(tf.imread(albedo))\n",
    "    ETI_array = np.array(tf.imread(eti))\n",
    "    \n",
    "    #CCi = (0.6 * shade) + (0.2 * albedo) + (0.2 * ETI)\n",
    "    #CCi = (0.2 *shade_array) + (0.2 * ETI_array)\n",
    "    CCi_path = (os.path.join(out_folder, name + \".TIF\"))\n",
    "    #fGeoref(CCi, albedo, CCi_path)\n",
    "\n",
    "    #tf.imsave(CCi_path, CCi)\n",
    "    return CCi_path"
   ]
  },
  {
   "cell_type": "code",
   "execution_count": null,
   "metadata": {},
   "outputs": [],
   "source": []
  }
 ],
 "metadata": {
  "kernelspec": {
   "display_name": "Python (DiplomovaPrace)",
   "language": "python",
   "name": "diplomovaprace"
  },
  "language_info": {
   "codemirror_mode": {
    "name": "ipython",
    "version": 3
   },
   "file_extension": ".py",
   "mimetype": "text/x-python",
   "name": "python",
   "nbconvert_exporter": "python",
   "pygments_lexer": "ipython3",
   "version": "3.8.5"
  }
 },
 "nbformat": 4,
 "nbformat_minor": 4
}
