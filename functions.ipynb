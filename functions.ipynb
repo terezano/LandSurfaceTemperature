{
 "cells": [
  {
   "cell_type": "code",
   "execution_count": 1,
   "metadata": {},
   "outputs": [],
   "source": [
    "try: \n",
    "    import sys\n",
    "    import numpy as np\n",
    "    import tifffile as tf\n",
    "    import os\n",
    "    from osgeo import gdal, osr\n",
    "    import earthpy as et\n",
    "    import earthpy.spatial as es\n",
    "    import math\n",
    "    import imagecodecs\n",
    "    #print('Import OK.')\n",
    "    \n",
    "except ImportError as IE:\n",
    "    print('Import not OK - ', IE )\n",
    "    sys.exit('exit - bad import')"
   ]
  },
  {
   "cell_type": "code",
   "execution_count": 2,
   "metadata": {},
   "outputs": [],
   "source": [
    "#https://gist.github.com/jkatagi/a1207eee32463efd06fb57676dcf86c8\n",
    "def fGeoref(input_array, src_dataset_path, output_path):\n",
    "        cols = input_array.shape[1]\n",
    "        rows = input_array.shape[0]\n",
    "        \n",
    "        dataset = gdal.Open(src_dataset_path, gdal.GA_ReadOnly)\n",
    "        originX, pixelWidth, b, originY, d, pixelHeight = dataset.GetGeoTransform() \n",
    "\n",
    "        driver = gdal.GetDriverByName('GTiff')\n",
    "        band_num = 1\n",
    "        GDT_dtype = gdal.GDT_Float32\n",
    "        outRaster = driver.Create(output_path, cols, rows, band_num, GDT_dtype)\n",
    "        outRaster.SetGeoTransform((originX, pixelWidth, 0, originY, 0, pixelHeight))\n",
    "        outband = outRaster.GetRasterBand(band_num)\n",
    "        outband.WriteArray(input_array)\n",
    "        prj=dataset.GetProjection()\n",
    "        outRasterSRS = osr.SpatialReference(wkt=prj)\n",
    "        outRaster.SetProjection(outRasterSRS.ExportToWkt())\n",
    "        \n",
    "        return True\n"
   ]
  },
  {
   "cell_type": "code",
   "execution_count": 3,
   "metadata": {},
   "outputs": [],
   "source": [
    "def fndvi(red_path, nir_path, out_folder, name = \"_NDVI\"):\n",
    "\n",
    "    red= tf.imread(red_path)\n",
    "    nir = tf.imread(nir_path)\n",
    "\n",
    "    zero_exception = np.seterr(all = \"ignore\")\n",
    "    red_array = np.array(red).astype(np.float32)\n",
    "    nir_array = np.array(nir).astype(np.float32)\n",
    "    \n",
    "    result_ndvi = np.divide((nir_array-red_array),(red_array+nir_array))\n",
    "      \n",
    "    result_ndvi_path = os.path.join(out_folder, name + \".TIF\") \n",
    "\n",
    "    #tf.imsave(result_ndvi_path, result_ndvi)\n",
    "    fGeoref(result_ndvi, red_path, result_ndvi_path)\n",
    "    \n",
    "    return result_ndvi_path\n"
   ]
  },
  {
   "cell_type": "code",
   "execution_count": 4,
   "metadata": {},
   "outputs": [],
   "source": [
    "def fTOA_Refl(band_path, Ap, Mp, out_folder, name = \"_TOA_Ref\"):   \n",
    "    \n",
    "    band= tf.imread(band_path)\n",
    "    \n",
    "    result_toa = Mp * band + Ap\n",
    "    result_toa_path = os.path.join(out_folder, name + \".TIF\")\n",
    "    \n",
    "    #tf.imsave(result_toa_path , result_toa)\n",
    "    \n",
    "    fGeoref(result_toa, band_path, result_toa_path)\n",
    "    \n",
    "    return result_toa_path"
   ]
  },
  {
   "cell_type": "code",
   "execution_count": 5,
   "metadata": {},
   "outputs": [],
   "source": [
    "def fTOA_Rad(thermo_path, ML, AL, out_folder, name = \"TOA_Rad\"):   \n",
    "        \n",
    "    thermo= tf.imread(thermo_path)\n",
    "    \n",
    "    result_toa_rad = (ML  * thermo) + AL\n",
    "    result_toa_rad_path = os.path.join(out_folder, name + \".TIF\")\n",
    "    \n",
    "    #tf.imsave(result_toa_rad_path , result_toa_rad)\n",
    "    \n",
    "    fGeoref(result_toa_rad, thermo_path, result_toa_rad_path)\n",
    "    \n",
    "    return result_toa_rad_path"
   ]
  },
  {
   "cell_type": "code",
   "execution_count": 6,
   "metadata": {},
   "outputs": [],
   "source": [
    "def fBT(input_path_toa, K1, K2, out_folder, name = \"BT\"):\n",
    "    \n",
    "    \n",
    "    toa_array = np.array(tf.imread(input_path_toa))\n",
    "    \n",
    "    zero_exception = np.seterr(all = \"ignore\")\n",
    "        \n",
    "    result_BT = K2/np.log(((K1/toa_array+1))) - 273.15    \n",
    "    \n",
    "    result_bt_path = os.path.join(out_folder, name + \".TIF\") \n",
    "    \n",
    "    fGeoref(result_BT, input_path_toa, result_bt_path)\n",
    "    \n",
    "    \n",
    "    return result_bt_path\n"
   ]
  },
  {
   "cell_type": "code",
   "execution_count": 7,
   "metadata": {},
   "outputs": [],
   "source": [
    "def fVc(ndvi, out_folder, name = \"Vc\"):\n",
    "    ndvi_array = np.array(tf.imread(ndvi))\n",
    "    result_Vc = np.divide(np.power(ndvi_array,2),0.3)\n",
    "\n",
    "    result_Vc_path = os.path.join(out_folder, name +\".TIF\")\n",
    "\n",
    "    fGeoref(result_Vc, ndvi, result_Vc_path)\n",
    "\n",
    "    return result_Vc_path"
   ]
  },
  {
   "cell_type": "code",
   "execution_count": 9,
   "metadata": {},
   "outputs": [],
   "source": [
    "def fEmis(vc, ndvi, red, out_folder, name = \"Emis\"):\n",
    "        \n",
    "    ndvi_array = np.array(tf.imread(ndvi))\n",
    "    vc_array = np.array(tf.imread(vc))\n",
    "    red = np.array(tf.imread(red))\n",
    "\n",
    "    result_e = (0.004 * vc_array) + 0.986\n",
    "    #print(result_e)\n",
    "    result_e = np.where(ndvi_array < 0.2, 1 - red, result_e) \n",
    "    result_e = np.where(ndvi_array > 0.5, 0.99, result_e)              \n",
    "    result_e[result_e > 1] = 0.99                           \n",
    "    result_e[result_e < 0.8] = 0.8\n",
    "    #print(result_e)\n",
    "\n",
    "    result_e_path = os.path.join(out_folder, name +\".TIF\")\n",
    "\n",
    "    fGeoref(result_e, vc, result_e_path)\n",
    "\n",
    "    return result_e_path"
   ]
  },
  {
   "cell_type": "code",
   "execution_count": 10,
   "metadata": {},
   "outputs": [],
   "source": [
    "def fLST(bt, surf_emis, out_folder, name = \"LST\"):\n",
    "        bt_array = np.array(tf.imread(bt))\n",
    "        e_array = np.array(tf.imread(surf_emis))\n",
    "        \n",
    "        result_LST = (bt_array / (1 + ((0.0015 * bt_array)/1.4488) * np.log(e_array)))\n",
    "        \n",
    "        result_LST_path = os.path.join(out_folder, name + \".TIF\")\n",
    "        \n",
    "        fGeoref(result_LST, bt, result_LST_path)\n",
    "        \n",
    "        return result_LST_path"
   ]
  }
 ],
 "metadata": {
  "kernelspec": {
   "display_name": "Python (DiplomovaPrace)",
   "language": "python",
   "name": "diplomovaprace"
  },
  "language_info": {
   "codemirror_mode": {
    "name": "ipython",
    "version": 3
   },
   "file_extension": ".py",
   "mimetype": "text/x-python",
   "name": "python",
   "nbconvert_exporter": "python",
   "pygments_lexer": "ipython3",
   "version": "3.8.5"
  }
 },
 "nbformat": 4,
 "nbformat_minor": 4
}
