{
 "cells": [
  {
   "cell_type": "code",
   "execution_count": 1,
   "metadata": {},
   "outputs": [
    {
     "data": {
      "text/plain": [
       "'\\n__author__ = \"Tereza Novakova\"\\n__credits__ = [\"Tereza Novakova\"]\\n__references__=[Jakub Brom]\\n__license__ = \"GPL\"\\n__version__ = \"1.0\"\\n__maintainer__ = \"Tereza Novakova\"\\n__email__ = \"teznovakova@gmail.com\"\\n'"
      ]
     },
     "execution_count": 1,
     "metadata": {},
     "output_type": "execute_result"
    }
   ],
   "source": [
    "# -*- coding: UTF-8 -*-\n",
    "\"\"\"\n",
    "__author__ = \"Tereza Novakova\"\n",
    "__credits__ = [\"Tereza Novakova\"]\n",
    "__references__=[Jakub Brom]\n",
    "__license__ = \"GPL\"\n",
    "__version__ = \"1.0\"\n",
    "__maintainer__ = \"Tereza Novakova\"\n",
    "__email__ = \"teznovakova@gmail.com\"\n",
    "\"\"\""
   ]
  },
  {
   "cell_type": "code",
   "execution_count": 2,
   "metadata": {},
   "outputs": [],
   "source": [
    "#https://automating-gis-processes.github.io/CSC/notebooks/L5/clipping-raster.html\n",
    "\n",
    "import rasterio\n",
    "from rasterio.plot import show\n",
    "from rasterio.plot import show_hist\n",
    "from rasterio.mask import mask\n",
    "from shapely.geometry import box\n",
    "import geopandas as gpd\n",
    "from fiona.crs import from_epsg\n",
    "import pycrs\n",
    "import os\n",
    "import json\n",
    "import pprint\n"
   ]
  },
  {
   "cell_type": "code",
   "execution_count": 3,
   "metadata": {},
   "outputs": [],
   "source": [
    "############################################################################\n",
    "############################USER INPUT for fuction##########################\n",
    "###########################################################################\n"
   ]
  },
  {
   "cell_type": "code",
   "execution_count": 4,
   "metadata": {},
   "outputs": [],
   "source": [
    "#input_path = r\"C:\\Users\\Tereza\\Documents\\UP\\DP\\SNIMKY\\INPUT\\SNIMKY_S2_BREZEN_RIJEN\"\n",
    "\n",
    "#Coordinates of bounding box in WGS (Olomouc)\n",
    "bbox = box(17.1959,49.5578,17.3136,49.6276)\n",
    "\n",
    "#EPSG code to transfer the data into\n",
    "epsg_code = 32633"
   ]
  },
  {
   "cell_type": "code",
   "execution_count": 10,
   "metadata": {},
   "outputs": [],
   "source": [
    "# Read the data\n",
    "def ClipSatelliteImage (input_tif, output_tif, bbox, epsg_code):\n",
    "    data = rasterio.open(input_tif)\n",
    "\n",
    "    #Creating GeoPanda dataframe for bbox\n",
    "    geo = gpd.GeoDataFrame({'geometry': bbox}, index=[0], crs=from_epsg(4326))\n",
    "    \n",
    "    # Project the Polygon into same CRS as the grid\n",
    "    geo = geo.to_crs(crs=data.crs.data)\n",
    "    geo.crs\n",
    "    \n",
    "    #pprint.pprint(data.crs)\n",
    "    #Function to parse features from GeoDataFrame in such a manner that rasterio wants them\n",
    "    def getFeatures(gdf):\n",
    "        return [json.loads(gdf.to_json())['features'][0]['geometry']]\n",
    "    \n",
    "    #Get Geometry coordinates\n",
    "    coords = getFeatures(geo)\n",
    "  \n",
    "    # Clip the raster with Polygon\n",
    "    out_img, out_transform = mask(dataset=data, shapes=coords, crop=True)\n",
    "    \n",
    "    #Copy metadata and update\n",
    "    out_meta = data.meta.copy()\n",
    "    out_meta.update({\"driver\": \"GTiff\",\n",
    "                     \"height\": out_img.shape[1],\n",
    "                     \"width\": out_img.shape[2],\n",
    "                     \"transform\": out_transform,\n",
    "                     \"crs\": epsg_code}\n",
    "                    )\n",
    "    #Save the clipped raster\n",
    "    with rasterio.open(output_tif, \"w\", **out_meta) as dest:\n",
    "            dest.write(out_img)\n",
    "    return out_img"
   ]
  },
  {
   "cell_type": "code",
   "execution_count": 8,
   "metadata": {},
   "outputs": [],
   "source": [
    "#CLIP = ClipSatelliteImage(r'C:\\Users\\Tereza\\Documents\\UP\\DP\\SKRIPTY\\TEST\\NDVI_20200402.TIF', r'C:\\Users\\Tereza\\Documents\\UP\\DP\\SKRIPTY\\TEST\\CLIPPED.TIF', bbox, 32633)"
   ]
  },
  {
   "cell_type": "code",
   "execution_count": null,
   "metadata": {},
   "outputs": [],
   "source": []
  }
 ],
 "metadata": {
  "kernelspec": {
   "display_name": "Python (DiplomovaPrace)",
   "language": "python",
   "name": "diplomovaprace"
  },
  "language_info": {
   "codemirror_mode": {
    "name": "ipython",
    "version": 3
   },
   "file_extension": ".py",
   "mimetype": "text/x-python",
   "name": "python",
   "nbconvert_exporter": "python",
   "pygments_lexer": "ipython3",
   "version": "3.8.5"
  }
 },
 "nbformat": 4,
 "nbformat_minor": 4
}
